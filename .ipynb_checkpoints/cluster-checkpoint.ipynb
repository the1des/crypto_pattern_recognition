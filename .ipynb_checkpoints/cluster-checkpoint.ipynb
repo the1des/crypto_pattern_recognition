{
 "cells": [
  {
   "cell_type": "code",
   "execution_count": null,
   "id": "5195824f-4260-446e-9afb-c8762a5333b9",
   "metadata": {
    "tags": []
   },
   "outputs": [],
   "source": [
    "import numpy as np\n",
    "import pandas as pd\n",
    "import datetime\n",
    "import os\n",
    "os.environ['TF_CPP_MIN_LOG_LEVEL'] = '2'\n",
    "import tensorflow as tf\n",
    "from tensorflow import keras\n",
    "from tensorflow.keras import regularizers\n",
    "from sklearn.model_selection import train_test_split\n",
    "import matplotlib.pyplot as plt"
   ]
  },
  {
   "cell_type": "code",
   "execution_count": null,
   "id": "e4780079-a35c-45b1-9a0c-6e51df254b74",
   "metadata": {
    "tags": []
   },
   "outputs": [],
   "source": [
    "#read data\n",
    "#make the path\n",
    "binance_1h = os.path.join('historical_data' , 'binance' , '1H.csv')\n",
    "#read csv\n",
    "source = pd.read_csv(binance_1h)\n",
    "df = source.copy()\n",
    "#set date and index\n",
    "df['Date'] = pd.to_datetime(source['Date'], format='%Y-%m-%d %H:%M:%S')\n",
    "df.set_index('Date', inplace=True)"
   ]
  },
  {
   "cell_type": "code",
   "execution_count": null,
   "id": "605903c1-be66-451e-9a41-5c8e7403a9b7",
   "metadata": {
    "tags": []
   },
   "outputs": [],
   "source": [
    "df"
   ]
  },
  {
   "cell_type": "code",
   "execution_count": null,
   "id": "d2d4c2f6-8ad0-4cc1-bb88-b8ffdc0b054a",
   "metadata": {
    "tags": []
   },
   "outputs": [],
   "source": [
    "## function sma on close\n",
    "def add_sma_to_dataframe (df):\n",
    "    #####sma9\n",
    "    df['sma9'] = df.Close.rolling(window=9).mean()\n",
    "    #####sma20\n",
    "    df['sma20'] = df.Close.rolling(window=20).mean()\n",
    "    #####sma50\n",
    "    df['sma50'] = df.Close.rolling(window=50).mean()\n",
    "    #####sma200\n",
    "    df['sma200'] = df.Close.rolling(window=200).mean()\n",
    "\n",
    "    return(df)"
   ]
  },
  {
   "cell_type": "code",
   "execution_count": null,
   "id": "ac836b8e-000a-433d-a875-2dc42cb420d9",
   "metadata": {
    "tags": []
   },
   "outputs": [],
   "source": [
    "## add sma9 sma20 sma50 and sma200 to data frame\n",
    "df = add_sma_to_dataframe(df)\n",
    "df"
   ]
  },
  {
   "cell_type": "code",
   "execution_count": null,
   "id": "c30be4e2-0512-45f1-acf7-918f060de577",
   "metadata": {
    "tags": []
   },
   "outputs": [],
   "source": [
    "start_date = '2020-03-01'\n",
    "df = df.loc[start_date:]\n",
    "df"
   ]
  },
  {
   "cell_type": "code",
   "execution_count": null,
   "id": "32a8db1e-d8a0-4859-a391-5eee4eae0b2a",
   "metadata": {
    "tags": []
   },
   "outputs": [],
   "source": [
    "df_feature = df.copy()\n",
    "df_feature['diff_sma9'] = (df.Close - df.sma9)/(df.Open)\n",
    "df_feature['diff_sma20'] = (df.Close - df.sma20)/(df.Open)\n",
    "df_feature['diff_sma20_9'] = (df.sma20 - df.sma9)/(df.sma20)\n",
    "df_feature"
   ]
  },
  {
   "cell_type": "code",
   "execution_count": null,
   "id": "bb9a2ff7-1136-4522-a08d-1126d24780ff",
   "metadata": {
    "tags": []
   },
   "outputs": [],
   "source": [
    "df_feature['target_long'] = np.select([(df.sma9 > df.sma20)], [1] , 0)\n",
    "df_feature"
   ]
  },
  {
   "cell_type": "code",
   "execution_count": null,
   "id": "f0928f3f-d5f9-45f4-b1b8-5575b5dcac2b",
   "metadata": {
    "tags": []
   },
   "outputs": [],
   "source": [
    "##remove columns\n",
    "df_feature = df_feature.loc[:, ['diff_sma9', 'diff_sma20','diff_sma20_9', 'target_long']]\n",
    "df_feature"
   ]
  },
  {
   "cell_type": "code",
   "execution_count": null,
   "id": "bf2b1c45-03bb-417e-8564-3c1e195ef847",
   "metadata": {
    "tags": []
   },
   "outputs": [],
   "source": [
    "# Split the data into training and testing sets\n",
    "X_train, X_test, y_train, y_test = train_test_split(\n",
    "    df_feature[['diff_sma20', 'diff_sma20', 'diff_sma20_9']],\n",
    "    df_feature['target_long'],\n",
    "    test_size=0.2,\n",
    "    random_state=42)"
   ]
  },
  {
   "cell_type": "code",
   "execution_count": null,
   "id": "446e3e40-db5c-4d0e-ad03-60c1f75615ad",
   "metadata": {
    "tags": []
   },
   "outputs": [],
   "source": [
    "X_train"
   ]
  },
  {
   "cell_type": "code",
   "execution_count": null,
   "id": "191011cc-9f1f-4e09-9ee4-26bfca46cd5e",
   "metadata": {
    "tags": []
   },
   "outputs": [],
   "source": [
    "X_test"
   ]
  },
  {
   "cell_type": "code",
   "execution_count": null,
   "id": "57026109-1002-4108-ac30-dc1b2f218f96",
   "metadata": {
    "tags": []
   },
   "outputs": [],
   "source": [
    "y_train"
   ]
  },
  {
   "cell_type": "code",
   "execution_count": null,
   "id": "cf1f9320-a432-4ab2-9635-a034be99993e",
   "metadata": {
    "tags": []
   },
   "outputs": [],
   "source": [
    "y_test"
   ]
  },
  {
   "cell_type": "code",
   "execution_count": null,
   "id": "f243c705-4726-4d6d-be80-df3af7093455",
   "metadata": {
    "tags": []
   },
   "outputs": [],
   "source": [
    "train_ds = tf.data.Dataset.from_tensor_slices((X_train.values, y_train.values))\n",
    "test_ds = tf.data.Dataset.from_tensor_slices((X_test.values, y_test.values))\n",
    "input_shape = train_ds.element_spec[0].shape"
   ]
  },
  {
   "cell_type": "code",
   "execution_count": null,
   "id": "0722ec3f-1bab-4831-9539-942352cbb573",
   "metadata": {
    "tags": []
   },
   "outputs": [],
   "source": [
    "train_ds"
   ]
  },
  {
   "cell_type": "code",
   "execution_count": null,
   "id": "1d8f6ff9-39da-4b1a-92a1-3834d4a2a25b",
   "metadata": {
    "tags": []
   },
   "outputs": [],
   "source": [
    "test_ds"
   ]
  },
  {
   "cell_type": "code",
   "execution_count": null,
   "id": "ffad580e-f677-4f0e-b9fd-64dba6784d83",
   "metadata": {
    "tags": []
   },
   "outputs": [],
   "source": [
    "input_shape"
   ]
  },
  {
   "cell_type": "code",
   "execution_count": null,
   "id": "37dfe9b9-6798-409f-af36-3b6434caaaa0",
   "metadata": {
    "tags": []
   },
   "outputs": [],
   "source": [
    "# Define the model architecture\n",
    "model = keras.Sequential([\n",
    "    keras.layers.Dense(64, activation='relu', input_shape=input_shape),\n",
    "    keras.layers.Dense(16, kernel_regularizer=regularizers.l2(0.001)),\n",
    "    keras.layers.Dense(8, activation='relu'),\n",
    "    keras.layers.Dense(1, activation='sigmoid')\n",
    "])\n",
    "model"
   ]
  },
  {
   "cell_type": "code",
   "execution_count": null,
   "id": "514c8130-f9f9-4805-9af3-f8908dd9334d",
   "metadata": {
    "tags": []
   },
   "outputs": [],
   "source": [
    "optimizer = tf.keras.optimizers.Adam(learning_rate=0.001)\n",
    "optimizer"
   ]
  },
  {
   "cell_type": "code",
   "execution_count": null,
   "id": "24d97547-1362-47b0-a060-c68272a3b1e6",
   "metadata": {
    "tags": []
   },
   "outputs": [],
   "source": [
    "model.compile(optimizer=optimizer, loss='binary_crossentropy', metrics=['accuracy'])"
   ]
  },
  {
   "cell_type": "code",
   "execution_count": null,
   "id": "58621caf-3119-4e08-9c57-3e879af9eb6a",
   "metadata": {
    "tags": []
   },
   "outputs": [],
   "source": [
    "history = model.fit(train_ds.batch(32), epochs=10, validation_data=test_ds.batch(32))"
   ]
  }
 ],
 "metadata": {
  "kernelspec": {
   "display_name": "Python 3 (ipykernel)",
   "language": "python",
   "name": "python3"
  },
  "language_info": {
   "codemirror_mode": {
    "name": "ipython",
    "version": 3
   },
   "file_extension": ".py",
   "mimetype": "text/x-python",
   "name": "python",
   "nbconvert_exporter": "python",
   "pygments_lexer": "ipython3",
   "version": "3.10.6"
  }
 },
 "nbformat": 4,
 "nbformat_minor": 5
}
